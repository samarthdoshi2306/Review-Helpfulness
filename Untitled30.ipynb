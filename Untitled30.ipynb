{
 "cells": [
  {
   "cell_type": "code",
   "execution_count": null,
   "metadata": {
    "colab": {
     "base_uri": "https://localhost:8080/",
     "height": 238
    },
    "colab_type": "code",
    "id": "w2Ks5jYzsJHj",
    "outputId": "a189f1d1-bb00-4716-c9f6-ce86f719580b"
   },
   "outputs": [
    {
     "name": "stdout",
     "output_type": "stream",
     "text": [
      "[nltk_data] Downloading package wordnet to /root/nltk_data...\n",
      "[nltk_data]   Package wordnet is already up-to-date!\n",
      "[nltk_data] Downloading package sentiwordnet to /root/nltk_data...\n",
      "[nltk_data]   Package sentiwordnet is already up-to-date!\n",
      "[nltk_data] Downloading package punkt to /root/nltk_data...\n",
      "[nltk_data]   Package punkt is already up-to-date!\n",
      "[nltk_data] Downloading package averaged_perceptron_tagger to\n",
      "[nltk_data]     /root/nltk_data...\n",
      "[nltk_data]   Package averaged_perceptron_tagger is already up-to-\n",
      "[nltk_data]       date!\n",
      "Requirement already satisfied: py-readability-metrics in /usr/local/lib/python3.6/dist-packages (1.4.4)\n",
      "Requirement already satisfied: nltk in /usr/local/lib/python3.6/dist-packages (from py-readability-metrics) (3.2.5)\n",
      "Requirement already satisfied: six in /usr/local/lib/python3.6/dist-packages (from nltk->py-readability-metrics) (1.12.0)\n"
     ]
    }
   ],
   "source": [
    "import numpy \n",
    "import pandas as pd\n",
    "import nltk\n",
    "from nltk.corpus import sentiwordnet as swn\n",
    "from nltk.corpus import wordnet\n",
    "import nltk.tag\n",
    "from nltk.tag import pos_tag\n",
    "nltk.download('wordnet')\n",
    "nltk.download('sentiwordnet')\n",
    "nltk.download('punkt')\n",
    "nltk.download('averaged_perceptron_tagger')\n",
    "!pip install py-readability-metrics\n",
    "from readability import  Readability\n",
    "from sklearn.model_selection import train_test_split\n",
    "from matplotlib import pyplot as plt\n",
    "from sklearn.svm import SVC\n",
    "from sklearn.metrics import confusion_matrix"
   ]
  },
  {
   "cell_type": "code",
   "execution_count": null,
   "metadata": {
    "colab": {},
    "colab_type": "code",
    "id": "NupeG1lde7za"
   },
   "outputs": [],
   "source": [
    "import pandas as pd \n",
    "df=pd.read_csv('/content/drive/My Drive/Reviews Project/cleaned_review_scottsdale.csv')"
   ]
  },
  {
   "cell_type": "code",
   "execution_count": null,
   "metadata": {
    "colab": {},
    "colab_type": "code",
    "id": "tn22yNzMe75o"
   },
   "outputs": [],
   "source": [
    "df=df[:50000]"
   ]
  },
  {
   "cell_type": "code",
   "execution_count": null,
   "metadata": {
    "colab": {
     "base_uri": "https://localhost:8080/",
     "height": 1000
    },
    "colab_type": "code",
    "id": "IQ8blG4ORuJ1",
    "outputId": "7b1c117c-8fcd-4e3f-d048-6da15bf387c7"
   },
   "outputs": [
    {
     "data": {
      "text/html": [
       "<div>\n",
       "<style scoped>\n",
       "    .dataframe tbody tr th:only-of-type {\n",
       "        vertical-align: middle;\n",
       "    }\n",
       "\n",
       "    .dataframe tbody tr th {\n",
       "        vertical-align: top;\n",
       "    }\n",
       "\n",
       "    .dataframe thead th {\n",
       "        text-align: right;\n",
       "    }\n",
       "</style>\n",
       "<table border=\"1\" class=\"dataframe\">\n",
       "  <thead>\n",
       "    <tr style=\"text-align: right;\">\n",
       "      <th></th>\n",
       "      <th>user_id</th>\n",
       "      <th>business_id</th>\n",
       "      <th>city</th>\n",
       "      <th>review_count</th>\n",
       "      <th>stars</th>\n",
       "      <th>review_id</th>\n",
       "      <th>review_stars</th>\n",
       "      <th>useful</th>\n",
       "      <th>funny</th>\n",
       "      <th>cool</th>\n",
       "      <th>text</th>\n",
       "      <th>date</th>\n",
       "    </tr>\n",
       "  </thead>\n",
       "  <tbody>\n",
       "    <tr>\n",
       "      <th>0</th>\n",
       "      <td>ntlvfPzc8eglqvk92iDIAw</td>\n",
       "      <td>8nP8ghEpT6WFcM6tfqAaGA</td>\n",
       "      <td>Scottsdale</td>\n",
       "      <td>720.0</td>\n",
       "      <td>3.5</td>\n",
       "      <td>ACKoJE2q9WhC3XfMQ_U1Qw</td>\n",
       "      <td>2</td>\n",
       "      <td>1</td>\n",
       "      <td>1</td>\n",
       "      <td>1</td>\n",
       "      <td>In a word: Kitsch.\\n\\nThis 50's palace of pink...</td>\n",
       "      <td>2008-05-27 22:31:01</td>\n",
       "    </tr>\n",
       "    <tr>\n",
       "      <th>1</th>\n",
       "      <td>ntlvfPzc8eglqvk92iDIAw</td>\n",
       "      <td>YjAo1DBb0YuPE_RWmhNyrA</td>\n",
       "      <td>Scottsdale</td>\n",
       "      <td>540.0</td>\n",
       "      <td>4.0</td>\n",
       "      <td>eocDUJxy15ej_-rxyBRVXg</td>\n",
       "      <td>4</td>\n",
       "      <td>2</td>\n",
       "      <td>0</td>\n",
       "      <td>1</td>\n",
       "      <td>One of the most impressive things about The Gr...</td>\n",
       "      <td>2008-05-27 15:43:26</td>\n",
       "    </tr>\n",
       "    <tr>\n",
       "      <th>2</th>\n",
       "      <td>ntlvfPzc8eglqvk92iDIAw</td>\n",
       "      <td>YjAo1DBb0YuPE_RWmhNyrA</td>\n",
       "      <td>Scottsdale</td>\n",
       "      <td>540.0</td>\n",
       "      <td>4.0</td>\n",
       "      <td>8GJonsHhPpoQZgpGRoOO1w</td>\n",
       "      <td>4</td>\n",
       "      <td>0</td>\n",
       "      <td>0</td>\n",
       "      <td>2</td>\n",
       "      <td>After a nearly eight year hiatus, I returned t...</td>\n",
       "      <td>2015-12-08 13:44:41</td>\n",
       "    </tr>\n",
       "    <tr>\n",
       "      <th>3</th>\n",
       "      <td>61JaBatv-BJkzYol-ejEAg</td>\n",
       "      <td>7T2Dx26gYKPMFmAWwHgnOA</td>\n",
       "      <td>Scottsdale</td>\n",
       "      <td>463.0</td>\n",
       "      <td>4.0</td>\n",
       "      <td>GGiLxmnWUeoV10Kc11Bj-w</td>\n",
       "      <td>5</td>\n",
       "      <td>1</td>\n",
       "      <td>1</td>\n",
       "      <td>1</td>\n",
       "      <td>This place is awesome. It's pretty unassuming,...</td>\n",
       "      <td>2010-09-20 05:58:40</td>\n",
       "    </tr>\n",
       "    <tr>\n",
       "      <th>4</th>\n",
       "      <td>-28RqJIrddOj9hhMBnzaFA</td>\n",
       "      <td>hgo0jDweUcHMHqNDnQQm9A</td>\n",
       "      <td>Scottsdale</td>\n",
       "      <td>261.0</td>\n",
       "      <td>3.5</td>\n",
       "      <td>K3ZUmU46-dBjuGUVkgGoNQ</td>\n",
       "      <td>3</td>\n",
       "      <td>1</td>\n",
       "      <td>0</td>\n",
       "      <td>0</td>\n",
       "      <td>Ate here recently for lunch, the food was grea...</td>\n",
       "      <td>2012-07-15 22:47:21</td>\n",
       "    </tr>\n",
       "    <tr>\n",
       "      <th>...</th>\n",
       "      <td>...</td>\n",
       "      <td>...</td>\n",
       "      <td>...</td>\n",
       "      <td>...</td>\n",
       "      <td>...</td>\n",
       "      <td>...</td>\n",
       "      <td>...</td>\n",
       "      <td>...</td>\n",
       "      <td>...</td>\n",
       "      <td>...</td>\n",
       "      <td>...</td>\n",
       "      <td>...</td>\n",
       "    </tr>\n",
       "    <tr>\n",
       "      <th>49995</th>\n",
       "      <td>5IHZFbqYDXGJ00QlyUMPUQ</td>\n",
       "      <td>NAPuzJcanOp91dE4GXPOow</td>\n",
       "      <td>Scottsdale</td>\n",
       "      <td>923.0</td>\n",
       "      <td>4.0</td>\n",
       "      <td>pn2o8u_WtwxhVfYW5JsOaA</td>\n",
       "      <td>1</td>\n",
       "      <td>1</td>\n",
       "      <td>1</td>\n",
       "      <td>0</td>\n",
       "      <td>Absolutely horrible service &amp; food. We gave th...</td>\n",
       "      <td>2015-03-26 23:16:46</td>\n",
       "    </tr>\n",
       "    <tr>\n",
       "      <th>49996</th>\n",
       "      <td>5IHZFbqYDXGJ00QlyUMPUQ</td>\n",
       "      <td>Blfn30Y8tvYq903oLiIf3g</td>\n",
       "      <td>Scottsdale</td>\n",
       "      <td>464.0</td>\n",
       "      <td>4.0</td>\n",
       "      <td>aZARU1YRGbH9TVFNGI2z8g</td>\n",
       "      <td>2</td>\n",
       "      <td>0</td>\n",
       "      <td>0</td>\n",
       "      <td>0</td>\n",
       "      <td>Lifetime members do not get as much as they pr...</td>\n",
       "      <td>2015-06-28 14:14:43</td>\n",
       "    </tr>\n",
       "    <tr>\n",
       "      <th>49997</th>\n",
       "      <td>5IHZFbqYDXGJ00QlyUMPUQ</td>\n",
       "      <td>h6Y1-KfN2XBkcrV85CS8yg</td>\n",
       "      <td>Scottsdale</td>\n",
       "      <td>805.0</td>\n",
       "      <td>3.0</td>\n",
       "      <td>5qP8Ym3Ob8bdGW-6JuOS4w</td>\n",
       "      <td>5</td>\n",
       "      <td>1</td>\n",
       "      <td>0</td>\n",
       "      <td>0</td>\n",
       "      <td>My husband and I have always enjoyed our time ...</td>\n",
       "      <td>2014-06-09 01:04:41</td>\n",
       "    </tr>\n",
       "    <tr>\n",
       "      <th>49998</th>\n",
       "      <td>5IHZFbqYDXGJ00QlyUMPUQ</td>\n",
       "      <td>yqYtY3-Po4OVPafA9Z-Xyw</td>\n",
       "      <td>Scottsdale</td>\n",
       "      <td>752.0</td>\n",
       "      <td>4.5</td>\n",
       "      <td>mqxPrrtiq0O-IXirGoP04A</td>\n",
       "      <td>5</td>\n",
       "      <td>0</td>\n",
       "      <td>0</td>\n",
       "      <td>0</td>\n",
       "      <td>Awesome and big happy hour! Fantastic edamame ...</td>\n",
       "      <td>2019-02-20 01:33:16</td>\n",
       "    </tr>\n",
       "    <tr>\n",
       "      <th>49999</th>\n",
       "      <td>5IHZFbqYDXGJ00QlyUMPUQ</td>\n",
       "      <td>BxKxFHXG4B2h1MXK8ebHZQ</td>\n",
       "      <td>Scottsdale</td>\n",
       "      <td>501.0</td>\n",
       "      <td>4.5</td>\n",
       "      <td>Et6r1bv_b7oU2c26veYT9Q</td>\n",
       "      <td>5</td>\n",
       "      <td>0</td>\n",
       "      <td>0</td>\n",
       "      <td>0</td>\n",
       "      <td>Holy toledo! This place is AMAZING! My mother-...</td>\n",
       "      <td>2016-03-06 16:32:55</td>\n",
       "    </tr>\n",
       "  </tbody>\n",
       "</table>\n",
       "<p>50000 rows × 12 columns</p>\n",
       "</div>"
      ],
      "text/plain": [
       "                      user_id  ...                 date\n",
       "0      ntlvfPzc8eglqvk92iDIAw  ...  2008-05-27 22:31:01\n",
       "1      ntlvfPzc8eglqvk92iDIAw  ...  2008-05-27 15:43:26\n",
       "2      ntlvfPzc8eglqvk92iDIAw  ...  2015-12-08 13:44:41\n",
       "3      61JaBatv-BJkzYol-ejEAg  ...  2010-09-20 05:58:40\n",
       "4      -28RqJIrddOj9hhMBnzaFA  ...  2012-07-15 22:47:21\n",
       "...                       ...  ...                  ...\n",
       "49995  5IHZFbqYDXGJ00QlyUMPUQ  ...  2015-03-26 23:16:46\n",
       "49996  5IHZFbqYDXGJ00QlyUMPUQ  ...  2015-06-28 14:14:43\n",
       "49997  5IHZFbqYDXGJ00QlyUMPUQ  ...  2014-06-09 01:04:41\n",
       "49998  5IHZFbqYDXGJ00QlyUMPUQ  ...  2019-02-20 01:33:16\n",
       "49999  5IHZFbqYDXGJ00QlyUMPUQ  ...  2016-03-06 16:32:55\n",
       "\n",
       "[50000 rows x 12 columns]"
      ]
     },
     "execution_count": 196,
     "metadata": {
      "tags": []
     },
     "output_type": "execute_result"
    }
   ],
   "source": [
    "df"
   ]
  },
  {
   "cell_type": "code",
   "execution_count": null,
   "metadata": {
    "colab": {
     "base_uri": "https://localhost:8080/",
     "height": 419
    },
    "colab_type": "code",
    "id": "2xYlT9jse8CH",
    "outputId": "002032cb-8222-4bbb-f374-b0a05620e051"
   },
   "outputs": [
    {
     "data": {
      "text/html": [
       "<div>\n",
       "<style scoped>\n",
       "    .dataframe tbody tr th:only-of-type {\n",
       "        vertical-align: middle;\n",
       "    }\n",
       "\n",
       "    .dataframe tbody tr th {\n",
       "        vertical-align: top;\n",
       "    }\n",
       "\n",
       "    .dataframe thead th {\n",
       "        text-align: right;\n",
       "    }\n",
       "</style>\n",
       "<table border=\"1\" class=\"dataframe\">\n",
       "  <thead>\n",
       "    <tr style=\"text-align: right;\">\n",
       "      <th></th>\n",
       "      <th>review_id</th>\n",
       "    </tr>\n",
       "  </thead>\n",
       "  <tbody>\n",
       "    <tr>\n",
       "      <th>0</th>\n",
       "      <td>ACKoJE2q9WhC3XfMQ_U1Qw</td>\n",
       "    </tr>\n",
       "    <tr>\n",
       "      <th>1</th>\n",
       "      <td>eocDUJxy15ej_-rxyBRVXg</td>\n",
       "    </tr>\n",
       "    <tr>\n",
       "      <th>2</th>\n",
       "      <td>8GJonsHhPpoQZgpGRoOO1w</td>\n",
       "    </tr>\n",
       "    <tr>\n",
       "      <th>3</th>\n",
       "      <td>GGiLxmnWUeoV10Kc11Bj-w</td>\n",
       "    </tr>\n",
       "    <tr>\n",
       "      <th>4</th>\n",
       "      <td>K3ZUmU46-dBjuGUVkgGoNQ</td>\n",
       "    </tr>\n",
       "    <tr>\n",
       "      <th>...</th>\n",
       "      <td>...</td>\n",
       "    </tr>\n",
       "    <tr>\n",
       "      <th>49995</th>\n",
       "      <td>pn2o8u_WtwxhVfYW5JsOaA</td>\n",
       "    </tr>\n",
       "    <tr>\n",
       "      <th>49996</th>\n",
       "      <td>aZARU1YRGbH9TVFNGI2z8g</td>\n",
       "    </tr>\n",
       "    <tr>\n",
       "      <th>49997</th>\n",
       "      <td>5qP8Ym3Ob8bdGW-6JuOS4w</td>\n",
       "    </tr>\n",
       "    <tr>\n",
       "      <th>49998</th>\n",
       "      <td>mqxPrrtiq0O-IXirGoP04A</td>\n",
       "    </tr>\n",
       "    <tr>\n",
       "      <th>49999</th>\n",
       "      <td>Et6r1bv_b7oU2c26veYT9Q</td>\n",
       "    </tr>\n",
       "  </tbody>\n",
       "</table>\n",
       "<p>50000 rows × 1 columns</p>\n",
       "</div>"
      ],
      "text/plain": [
       "                    review_id\n",
       "0      ACKoJE2q9WhC3XfMQ_U1Qw\n",
       "1      eocDUJxy15ej_-rxyBRVXg\n",
       "2      8GJonsHhPpoQZgpGRoOO1w\n",
       "3      GGiLxmnWUeoV10Kc11Bj-w\n",
       "4      K3ZUmU46-dBjuGUVkgGoNQ\n",
       "...                       ...\n",
       "49995  pn2o8u_WtwxhVfYW5JsOaA\n",
       "49996  aZARU1YRGbH9TVFNGI2z8g\n",
       "49997  5qP8Ym3Ob8bdGW-6JuOS4w\n",
       "49998  mqxPrrtiq0O-IXirGoP04A\n",
       "49999  Et6r1bv_b7oU2c26veYT9Q\n",
       "\n",
       "[50000 rows x 1 columns]"
      ]
     },
     "execution_count": 197,
     "metadata": {
      "tags": []
     },
     "output_type": "execute_result"
    }
   ],
   "source": [
    "df1=df[['review_id']]\n",
    "df1"
   ]
  },
  {
   "cell_type": "code",
   "execution_count": null,
   "metadata": {
    "colab": {},
    "colab_type": "code",
    "id": "dpRVQJXdsqDM"
   },
   "outputs": [],
   "source": [
    "def LCMS(text):\n",
    "  text=str(text)\n",
    "  text=text.lower()\n",
    "  sentence = nltk.sent_tokenize(text)\n",
    "  l=[]\n",
    "  for sent in sentence:\n",
    "    l.append(pos_tag(nltk.word_tokenize(sent)))\n",
    "  adj=[]\n",
    "  v=[]\n",
    "  sv=[]\n",
    "  sav=[]\n",
    "  dav=[]\n",
    "  iav=[]\n",
    "  svl=['like','dislike','love','hate','hear','imagine','impress','smell','see','seem','sound','stay','suppose','taste','think','understand','wish','feel','lack','look','mind','know','need','believe','owe','deny','prefer','have','doubt','resemble','remember','appear','satisfy','possess','please','want','concern','weigh','grow','fit','exist','include','involve','belong','consist','contain','depend','own','agree','disagree','mean','deserve','release','measure','recognise','remain','turn','matter','is','am','are','was','be','being','were','been']\n",
    "  for i in l:\n",
    "    for j in i:\n",
    "      wor=j[0]\n",
    "      cate=j[1]\n",
    "      if cate.startswith('J'):\n",
    "        adj.append(wor)\n",
    "      elif cate.startswith('V'):\n",
    "        v.append(wor)\n",
    "        if wor in svl:\n",
    "          sv.append(wor)\n",
    "        else:\n",
    "          syn = wordnet.synsets(wor)\n",
    "          c=0\n",
    "          score=0\n",
    "          for k in syn:\n",
    "            if (k.name().split(\".\")[1])=='v' and swn.senti_synset(k.name()).obj_score()!=1:\n",
    "              g=swn.senti_synset(k.name())\n",
    "              score=score+g.obj_score()\n",
    "              c=c+1\n",
    "            if c==3:\n",
    "              break\n",
    "          if c!=0:\n",
    "            avg=score/c\n",
    "            if avg>=0.6:\n",
    "              sav.append(wor)\n",
    "            elif avg<0.6 and avg>=0.2:\n",
    "              iav.append(wor)\n",
    "            else:\n",
    "              dav.append(wor)\n",
    "  ladj=len(adj)\n",
    "  lsv=len(sv)\n",
    "  lsav=len(sav)\n",
    "  liav=len(iav)\n",
    "  ldav=len(dav)\n",
    "  if (ladj+lsv+lsav+liav+ldav)!=0:\n",
    "    LCM_score= (4*ladj + 3*lsv + 2*lsav + 1*liav + 1*ldav)/(ladj+lsv+lsav+liav+ldav)\n",
    "  else:\n",
    "    LCM_score=0    \n",
    "  return LCM_score"
   ]
  },
  {
   "cell_type": "code",
   "execution_count": null,
   "metadata": {
    "colab": {},
    "colab_type": "code",
    "id": "NPpVoC4Ysrrj"
   },
   "outputs": [],
   "source": [
    "import numpy as np\n",
    "df1=df1.join(pd.DataFrame(np.vectorize(LCMS)(df['text']),columns=['ABSTRACTION_SCORE']))"
   ]
  },
  {
   "cell_type": "code",
   "execution_count": null,
   "metadata": {
    "colab": {},
    "colab_type": "code",
    "id": "YyREcJ-Yt8Z2"
   },
   "outputs": [],
   "source": [
    "df1['review_extemity']=df['review_stars']-df['stars']"
   ]
  },
  {
   "cell_type": "code",
   "execution_count": null,
   "metadata": {
    "colab": {
     "base_uri": "https://localhost:8080/",
     "height": 419
    },
    "colab_type": "code",
    "id": "f4MtbJXRzQqO",
    "outputId": "6236b4e1-598c-49d7-bb8f-2b8b91ab3350"
   },
   "outputs": [
    {
     "data": {
      "text/html": [
       "<div>\n",
       "<style scoped>\n",
       "    .dataframe tbody tr th:only-of-type {\n",
       "        vertical-align: middle;\n",
       "    }\n",
       "\n",
       "    .dataframe tbody tr th {\n",
       "        vertical-align: top;\n",
       "    }\n",
       "\n",
       "    .dataframe thead th {\n",
       "        text-align: right;\n",
       "    }\n",
       "</style>\n",
       "<table border=\"1\" class=\"dataframe\">\n",
       "  <thead>\n",
       "    <tr style=\"text-align: right;\">\n",
       "      <th></th>\n",
       "      <th>review_id</th>\n",
       "    </tr>\n",
       "  </thead>\n",
       "  <tbody>\n",
       "    <tr>\n",
       "      <th>0</th>\n",
       "      <td>ACKoJE2q9WhC3XfMQ_U1Qw</td>\n",
       "    </tr>\n",
       "    <tr>\n",
       "      <th>1</th>\n",
       "      <td>eocDUJxy15ej_-rxyBRVXg</td>\n",
       "    </tr>\n",
       "    <tr>\n",
       "      <th>2</th>\n",
       "      <td>8GJonsHhPpoQZgpGRoOO1w</td>\n",
       "    </tr>\n",
       "    <tr>\n",
       "      <th>3</th>\n",
       "      <td>GGiLxmnWUeoV10Kc11Bj-w</td>\n",
       "    </tr>\n",
       "    <tr>\n",
       "      <th>4</th>\n",
       "      <td>K3ZUmU46-dBjuGUVkgGoNQ</td>\n",
       "    </tr>\n",
       "    <tr>\n",
       "      <th>...</th>\n",
       "      <td>...</td>\n",
       "    </tr>\n",
       "    <tr>\n",
       "      <th>49995</th>\n",
       "      <td>pn2o8u_WtwxhVfYW5JsOaA</td>\n",
       "    </tr>\n",
       "    <tr>\n",
       "      <th>49996</th>\n",
       "      <td>aZARU1YRGbH9TVFNGI2z8g</td>\n",
       "    </tr>\n",
       "    <tr>\n",
       "      <th>49997</th>\n",
       "      <td>5qP8Ym3Ob8bdGW-6JuOS4w</td>\n",
       "    </tr>\n",
       "    <tr>\n",
       "      <th>49998</th>\n",
       "      <td>mqxPrrtiq0O-IXirGoP04A</td>\n",
       "    </tr>\n",
       "    <tr>\n",
       "      <th>49999</th>\n",
       "      <td>Et6r1bv_b7oU2c26veYT9Q</td>\n",
       "    </tr>\n",
       "  </tbody>\n",
       "</table>\n",
       "<p>50000 rows × 1 columns</p>\n",
       "</div>"
      ],
      "text/plain": [
       "                    review_id\n",
       "0      ACKoJE2q9WhC3XfMQ_U1Qw\n",
       "1      eocDUJxy15ej_-rxyBRVXg\n",
       "2      8GJonsHhPpoQZgpGRoOO1w\n",
       "3      GGiLxmnWUeoV10Kc11Bj-w\n",
       "4      K3ZUmU46-dBjuGUVkgGoNQ\n",
       "...                       ...\n",
       "49995  pn2o8u_WtwxhVfYW5JsOaA\n",
       "49996  aZARU1YRGbH9TVFNGI2z8g\n",
       "49997  5qP8Ym3Ob8bdGW-6JuOS4w\n",
       "49998  mqxPrrtiq0O-IXirGoP04A\n",
       "49999  Et6r1bv_b7oU2c26veYT9Q\n",
       "\n",
       "[50000 rows x 1 columns]"
      ]
     },
     "execution_count": 198,
     "metadata": {
      "tags": []
     },
     "output_type": "execute_result"
    }
   ],
   "source": [
    "df1"
   ]
  },
  {
   "cell_type": "code",
   "execution_count": null,
   "metadata": {
    "colab": {},
    "colab_type": "code",
    "id": "t-U-qDX-4A11"
   },
   "outputs": [],
   "source": [
    "def readability(text):\n",
    "  r=Readability(text)\n",
    "  try:\n",
    "    return r.flesch_kincaid().score\n",
    "  except:\n",
    "    return 0"
   ]
  },
  {
   "cell_type": "code",
   "execution_count": null,
   "metadata": {
    "colab": {},
    "colab_type": "code",
    "id": "grdzO4814wsA"
   },
   "outputs": [],
   "source": [
    "df1=df1.join(pd.DataFrame(np.vectorize(readability)(df['text']),columns=['Readability']))"
   ]
  },
  {
   "cell_type": "code",
   "execution_count": null,
   "metadata": {
    "colab": {
     "base_uri": "https://localhost:8080/",
     "height": 419
    },
    "colab_type": "code",
    "id": "4q3Rdes_4_at",
    "outputId": "2fe5ce81-8079-4355-c393-0e8ebcb1a690"
   },
   "outputs": [
    {
     "data": {
      "text/html": [
       "<div>\n",
       "<style scoped>\n",
       "    .dataframe tbody tr th:only-of-type {\n",
       "        vertical-align: middle;\n",
       "    }\n",
       "\n",
       "    .dataframe tbody tr th {\n",
       "        vertical-align: top;\n",
       "    }\n",
       "\n",
       "    .dataframe thead th {\n",
       "        text-align: right;\n",
       "    }\n",
       "</style>\n",
       "<table border=\"1\" class=\"dataframe\">\n",
       "  <thead>\n",
       "    <tr style=\"text-align: right;\">\n",
       "      <th></th>\n",
       "      <th>review_id</th>\n",
       "    </tr>\n",
       "  </thead>\n",
       "  <tbody>\n",
       "    <tr>\n",
       "      <th>0</th>\n",
       "      <td>ACKoJE2q9WhC3XfMQ_U1Qw</td>\n",
       "    </tr>\n",
       "    <tr>\n",
       "      <th>1</th>\n",
       "      <td>eocDUJxy15ej_-rxyBRVXg</td>\n",
       "    </tr>\n",
       "    <tr>\n",
       "      <th>2</th>\n",
       "      <td>8GJonsHhPpoQZgpGRoOO1w</td>\n",
       "    </tr>\n",
       "    <tr>\n",
       "      <th>3</th>\n",
       "      <td>GGiLxmnWUeoV10Kc11Bj-w</td>\n",
       "    </tr>\n",
       "    <tr>\n",
       "      <th>4</th>\n",
       "      <td>K3ZUmU46-dBjuGUVkgGoNQ</td>\n",
       "    </tr>\n",
       "    <tr>\n",
       "      <th>...</th>\n",
       "      <td>...</td>\n",
       "    </tr>\n",
       "    <tr>\n",
       "      <th>49995</th>\n",
       "      <td>pn2o8u_WtwxhVfYW5JsOaA</td>\n",
       "    </tr>\n",
       "    <tr>\n",
       "      <th>49996</th>\n",
       "      <td>aZARU1YRGbH9TVFNGI2z8g</td>\n",
       "    </tr>\n",
       "    <tr>\n",
       "      <th>49997</th>\n",
       "      <td>5qP8Ym3Ob8bdGW-6JuOS4w</td>\n",
       "    </tr>\n",
       "    <tr>\n",
       "      <th>49998</th>\n",
       "      <td>mqxPrrtiq0O-IXirGoP04A</td>\n",
       "    </tr>\n",
       "    <tr>\n",
       "      <th>49999</th>\n",
       "      <td>Et6r1bv_b7oU2c26veYT9Q</td>\n",
       "    </tr>\n",
       "  </tbody>\n",
       "</table>\n",
       "<p>50000 rows × 1 columns</p>\n",
       "</div>"
      ],
      "text/plain": [
       "                    review_id\n",
       "0      ACKoJE2q9WhC3XfMQ_U1Qw\n",
       "1      eocDUJxy15ej_-rxyBRVXg\n",
       "2      8GJonsHhPpoQZgpGRoOO1w\n",
       "3      GGiLxmnWUeoV10Kc11Bj-w\n",
       "4      K3ZUmU46-dBjuGUVkgGoNQ\n",
       "...                       ...\n",
       "49995  pn2o8u_WtwxhVfYW5JsOaA\n",
       "49996  aZARU1YRGbH9TVFNGI2z8g\n",
       "49997  5qP8Ym3Ob8bdGW-6JuOS4w\n",
       "49998  mqxPrrtiq0O-IXirGoP04A\n",
       "49999  Et6r1bv_b7oU2c26veYT9Q\n",
       "\n",
       "[50000 rows x 1 columns]"
      ]
     },
     "execution_count": 199,
     "metadata": {
      "tags": []
     },
     "output_type": "execute_result"
    }
   ],
   "source": [
    "df1"
   ]
  },
  {
   "cell_type": "code",
   "execution_count": null,
   "metadata": {
    "colab": {},
    "colab_type": "code",
    "id": "fjndp-Tm5vrf"
   },
   "outputs": [],
   "source": [
    "a=pd.DataFrame()\n",
    "df1['usefulness'] = df['useful']/(df['useful'] + df['funny'] +  df['cool'])"
   ]
  },
  {
   "cell_type": "code",
   "execution_count": null,
   "metadata": {
    "colab": {},
    "colab_type": "code",
    "id": "4qIrJYPJ77mp"
   },
   "outputs": [],
   "source": [
    "df2=df1[df1['usefulness'].notnull()]"
   ]
  },
  {
   "cell_type": "code",
   "execution_count": null,
   "metadata": {
    "colab": {},
    "colab_type": "code",
    "id": "ESpbhSa379wG"
   },
   "outputs": [],
   "source": [
    "df3=df2[df2['Readability']!=0]"
   ]
  },
  {
   "cell_type": "code",
   "execution_count": null,
   "metadata": {
    "colab": {},
    "colab_type": "code",
    "id": "k5AFYgRJ9eFk"
   },
   "outputs": [],
   "source": [
    "df3=df3.reset_index(drop=True)"
   ]
  },
  {
   "cell_type": "code",
   "execution_count": null,
   "metadata": {
    "colab": {
     "base_uri": "https://localhost:8080/",
     "height": 419
    },
    "colab_type": "code",
    "id": "hm7eVKaDR3bK",
    "outputId": "cfcefde1-db89-43f1-e746-bea4ed1ea8f4"
   },
   "outputs": [
    {
     "data": {
      "text/html": [
       "<div>\n",
       "<style scoped>\n",
       "    .dataframe tbody tr th:only-of-type {\n",
       "        vertical-align: middle;\n",
       "    }\n",
       "\n",
       "    .dataframe tbody tr th {\n",
       "        vertical-align: top;\n",
       "    }\n",
       "\n",
       "    .dataframe thead th {\n",
       "        text-align: right;\n",
       "    }\n",
       "</style>\n",
       "<table border=\"1\" class=\"dataframe\">\n",
       "  <thead>\n",
       "    <tr style=\"text-align: right;\">\n",
       "      <th></th>\n",
       "      <th>review_id</th>\n",
       "      <th>ABSTRACTION_SCORE</th>\n",
       "      <th>review_extemity</th>\n",
       "      <th>Readability</th>\n",
       "      <th>usefulness</th>\n",
       "      <th>labels</th>\n",
       "    </tr>\n",
       "  </thead>\n",
       "  <tbody>\n",
       "    <tr>\n",
       "      <th>0</th>\n",
       "      <td>ACKoJE2q9WhC3XfMQ_U1Qw</td>\n",
       "      <td>3.130435</td>\n",
       "      <td>-1.5</td>\n",
       "      <td>9.720717</td>\n",
       "      <td>0.333333</td>\n",
       "      <td>0</td>\n",
       "    </tr>\n",
       "    <tr>\n",
       "      <th>1</th>\n",
       "      <td>eocDUJxy15ej_-rxyBRVXg</td>\n",
       "      <td>3.130435</td>\n",
       "      <td>0.0</td>\n",
       "      <td>13.110451</td>\n",
       "      <td>0.666667</td>\n",
       "      <td>1</td>\n",
       "    </tr>\n",
       "    <tr>\n",
       "      <th>2</th>\n",
       "      <td>8GJonsHhPpoQZgpGRoOO1w</td>\n",
       "      <td>3.000000</td>\n",
       "      <td>0.0</td>\n",
       "      <td>10.806941</td>\n",
       "      <td>0.000000</td>\n",
       "      <td>0</td>\n",
       "    </tr>\n",
       "    <tr>\n",
       "      <th>3</th>\n",
       "      <td>FIyNefQaz9vuvCkJHAOACQ</td>\n",
       "      <td>2.909091</td>\n",
       "      <td>1.0</td>\n",
       "      <td>7.930805</td>\n",
       "      <td>1.000000</td>\n",
       "      <td>1</td>\n",
       "    </tr>\n",
       "    <tr>\n",
       "      <th>4</th>\n",
       "      <td>KJwEoh5i79tECOLDMcs1Yg</td>\n",
       "      <td>3.022727</td>\n",
       "      <td>1.0</td>\n",
       "      <td>5.457822</td>\n",
       "      <td>0.333333</td>\n",
       "      <td>0</td>\n",
       "    </tr>\n",
       "    <tr>\n",
       "      <th>...</th>\n",
       "      <td>...</td>\n",
       "      <td>...</td>\n",
       "      <td>...</td>\n",
       "      <td>...</td>\n",
       "      <td>...</td>\n",
       "      <td>...</td>\n",
       "    </tr>\n",
       "    <tr>\n",
       "      <th>9598</th>\n",
       "      <td>lxFQ-DrE6sPxJaf1FmbCLQ</td>\n",
       "      <td>2.628205</td>\n",
       "      <td>-2.0</td>\n",
       "      <td>4.452438</td>\n",
       "      <td>0.333333</td>\n",
       "      <td>0</td>\n",
       "    </tr>\n",
       "    <tr>\n",
       "      <th>9599</th>\n",
       "      <td>DIJNEDWG4c_XnpXxDvcpmg</td>\n",
       "      <td>2.555556</td>\n",
       "      <td>-2.5</td>\n",
       "      <td>8.955959</td>\n",
       "      <td>1.000000</td>\n",
       "      <td>1</td>\n",
       "    </tr>\n",
       "    <tr>\n",
       "      <th>9600</th>\n",
       "      <td>Hstgb4u0mDaZ5mkHBkWYxg</td>\n",
       "      <td>2.970588</td>\n",
       "      <td>0.5</td>\n",
       "      <td>5.168512</td>\n",
       "      <td>1.000000</td>\n",
       "      <td>1</td>\n",
       "    </tr>\n",
       "    <tr>\n",
       "      <th>9601</th>\n",
       "      <td>pn2o8u_WtwxhVfYW5JsOaA</td>\n",
       "      <td>2.702128</td>\n",
       "      <td>-3.0</td>\n",
       "      <td>4.528440</td>\n",
       "      <td>0.500000</td>\n",
       "      <td>0</td>\n",
       "    </tr>\n",
       "    <tr>\n",
       "      <th>9602</th>\n",
       "      <td>5qP8Ym3Ob8bdGW-6JuOS4w</td>\n",
       "      <td>2.928571</td>\n",
       "      <td>2.0</td>\n",
       "      <td>4.548462</td>\n",
       "      <td>1.000000</td>\n",
       "      <td>1</td>\n",
       "    </tr>\n",
       "  </tbody>\n",
       "</table>\n",
       "<p>9603 rows × 6 columns</p>\n",
       "</div>"
      ],
      "text/plain": [
       "                   review_id  ABSTRACTION_SCORE  ...  usefulness  labels\n",
       "0     ACKoJE2q9WhC3XfMQ_U1Qw           3.130435  ...    0.333333       0\n",
       "1     eocDUJxy15ej_-rxyBRVXg           3.130435  ...    0.666667       1\n",
       "2     8GJonsHhPpoQZgpGRoOO1w           3.000000  ...    0.000000       0\n",
       "3     FIyNefQaz9vuvCkJHAOACQ           2.909091  ...    1.000000       1\n",
       "4     KJwEoh5i79tECOLDMcs1Yg           3.022727  ...    0.333333       0\n",
       "...                      ...                ...  ...         ...     ...\n",
       "9598  lxFQ-DrE6sPxJaf1FmbCLQ           2.628205  ...    0.333333       0\n",
       "9599  DIJNEDWG4c_XnpXxDvcpmg           2.555556  ...    1.000000       1\n",
       "9600  Hstgb4u0mDaZ5mkHBkWYxg           2.970588  ...    1.000000       1\n",
       "9601  pn2o8u_WtwxhVfYW5JsOaA           2.702128  ...    0.500000       0\n",
       "9602  5qP8Ym3Ob8bdGW-6JuOS4w           2.928571  ...    1.000000       1\n",
       "\n",
       "[9603 rows x 6 columns]"
      ]
     },
     "execution_count": 200,
     "metadata": {
      "tags": []
     },
     "output_type": "execute_result"
    }
   ],
   "source": [
    "df3"
   ]
  },
  {
   "cell_type": "code",
   "execution_count": null,
   "metadata": {
    "colab": {},
    "colab_type": "code",
    "id": "91QDchAOH1fG"
   },
   "outputs": [],
   "source": [
    "df3['labels']=df3['usefulness'].apply(lambda  x : 1 if x>=0.6 else 0)"
   ]
  },
  {
   "cell_type": "code",
   "execution_count": null,
   "metadata": {
    "colab": {
     "base_uri": "https://localhost:8080/",
     "height": 419
    },
    "colab_type": "code",
    "id": "6tXRxtrQI6qU",
    "outputId": "5dc97f6b-c9db-4f24-ba05-f8a23ed86550"
   },
   "outputs": [
    {
     "data": {
      "text/html": [
       "<div>\n",
       "<style scoped>\n",
       "    .dataframe tbody tr th:only-of-type {\n",
       "        vertical-align: middle;\n",
       "    }\n",
       "\n",
       "    .dataframe tbody tr th {\n",
       "        vertical-align: top;\n",
       "    }\n",
       "\n",
       "    .dataframe thead th {\n",
       "        text-align: right;\n",
       "    }\n",
       "</style>\n",
       "<table border=\"1\" class=\"dataframe\">\n",
       "  <thead>\n",
       "    <tr style=\"text-align: right;\">\n",
       "      <th></th>\n",
       "      <th>review_id</th>\n",
       "      <th>ABSTRACTION_SCORE</th>\n",
       "      <th>review_extemity</th>\n",
       "      <th>Readability</th>\n",
       "      <th>usefulness</th>\n",
       "      <th>labels</th>\n",
       "    </tr>\n",
       "  </thead>\n",
       "  <tbody>\n",
       "    <tr>\n",
       "      <th>0</th>\n",
       "      <td>ACKoJE2q9WhC3XfMQ_U1Qw</td>\n",
       "      <td>3.130435</td>\n",
       "      <td>-1.5</td>\n",
       "      <td>9.720717</td>\n",
       "      <td>0.333333</td>\n",
       "      <td>0</td>\n",
       "    </tr>\n",
       "    <tr>\n",
       "      <th>1</th>\n",
       "      <td>eocDUJxy15ej_-rxyBRVXg</td>\n",
       "      <td>3.130435</td>\n",
       "      <td>0.0</td>\n",
       "      <td>13.110451</td>\n",
       "      <td>0.666667</td>\n",
       "      <td>1</td>\n",
       "    </tr>\n",
       "    <tr>\n",
       "      <th>2</th>\n",
       "      <td>8GJonsHhPpoQZgpGRoOO1w</td>\n",
       "      <td>3.000000</td>\n",
       "      <td>0.0</td>\n",
       "      <td>10.806941</td>\n",
       "      <td>0.000000</td>\n",
       "      <td>0</td>\n",
       "    </tr>\n",
       "    <tr>\n",
       "      <th>3</th>\n",
       "      <td>FIyNefQaz9vuvCkJHAOACQ</td>\n",
       "      <td>2.909091</td>\n",
       "      <td>1.0</td>\n",
       "      <td>7.930805</td>\n",
       "      <td>1.000000</td>\n",
       "      <td>1</td>\n",
       "    </tr>\n",
       "    <tr>\n",
       "      <th>4</th>\n",
       "      <td>KJwEoh5i79tECOLDMcs1Yg</td>\n",
       "      <td>3.022727</td>\n",
       "      <td>1.0</td>\n",
       "      <td>5.457822</td>\n",
       "      <td>0.333333</td>\n",
       "      <td>0</td>\n",
       "    </tr>\n",
       "    <tr>\n",
       "      <th>...</th>\n",
       "      <td>...</td>\n",
       "      <td>...</td>\n",
       "      <td>...</td>\n",
       "      <td>...</td>\n",
       "      <td>...</td>\n",
       "      <td>...</td>\n",
       "    </tr>\n",
       "    <tr>\n",
       "      <th>9598</th>\n",
       "      <td>lxFQ-DrE6sPxJaf1FmbCLQ</td>\n",
       "      <td>2.628205</td>\n",
       "      <td>-2.0</td>\n",
       "      <td>4.452438</td>\n",
       "      <td>0.333333</td>\n",
       "      <td>0</td>\n",
       "    </tr>\n",
       "    <tr>\n",
       "      <th>9599</th>\n",
       "      <td>DIJNEDWG4c_XnpXxDvcpmg</td>\n",
       "      <td>2.555556</td>\n",
       "      <td>-2.5</td>\n",
       "      <td>8.955959</td>\n",
       "      <td>1.000000</td>\n",
       "      <td>1</td>\n",
       "    </tr>\n",
       "    <tr>\n",
       "      <th>9600</th>\n",
       "      <td>Hstgb4u0mDaZ5mkHBkWYxg</td>\n",
       "      <td>2.970588</td>\n",
       "      <td>0.5</td>\n",
       "      <td>5.168512</td>\n",
       "      <td>1.000000</td>\n",
       "      <td>1</td>\n",
       "    </tr>\n",
       "    <tr>\n",
       "      <th>9601</th>\n",
       "      <td>pn2o8u_WtwxhVfYW5JsOaA</td>\n",
       "      <td>2.702128</td>\n",
       "      <td>-3.0</td>\n",
       "      <td>4.528440</td>\n",
       "      <td>0.500000</td>\n",
       "      <td>0</td>\n",
       "    </tr>\n",
       "    <tr>\n",
       "      <th>9602</th>\n",
       "      <td>5qP8Ym3Ob8bdGW-6JuOS4w</td>\n",
       "      <td>2.928571</td>\n",
       "      <td>2.0</td>\n",
       "      <td>4.548462</td>\n",
       "      <td>1.000000</td>\n",
       "      <td>1</td>\n",
       "    </tr>\n",
       "  </tbody>\n",
       "</table>\n",
       "<p>9603 rows × 6 columns</p>\n",
       "</div>"
      ],
      "text/plain": [
       "                   review_id  ABSTRACTION_SCORE  ...  usefulness  labels\n",
       "0     ACKoJE2q9WhC3XfMQ_U1Qw           3.130435  ...    0.333333       0\n",
       "1     eocDUJxy15ej_-rxyBRVXg           3.130435  ...    0.666667       1\n",
       "2     8GJonsHhPpoQZgpGRoOO1w           3.000000  ...    0.000000       0\n",
       "3     FIyNefQaz9vuvCkJHAOACQ           2.909091  ...    1.000000       1\n",
       "4     KJwEoh5i79tECOLDMcs1Yg           3.022727  ...    0.333333       0\n",
       "...                      ...                ...  ...         ...     ...\n",
       "9598  lxFQ-DrE6sPxJaf1FmbCLQ           2.628205  ...    0.333333       0\n",
       "9599  DIJNEDWG4c_XnpXxDvcpmg           2.555556  ...    1.000000       1\n",
       "9600  Hstgb4u0mDaZ5mkHBkWYxg           2.970588  ...    1.000000       1\n",
       "9601  pn2o8u_WtwxhVfYW5JsOaA           2.702128  ...    0.500000       0\n",
       "9602  5qP8Ym3Ob8bdGW-6JuOS4w           2.928571  ...    1.000000       1\n",
       "\n",
       "[9603 rows x 6 columns]"
      ]
     },
     "execution_count": 115,
     "metadata": {
      "tags": []
     },
     "output_type": "execute_result"
    }
   ],
   "source": [
    "df3"
   ]
  },
  {
   "cell_type": "code",
   "execution_count": null,
   "metadata": {
    "colab": {},
    "colab_type": "code",
    "id": "LAMhac8zJo46"
   },
   "outputs": [],
   "source": [
    "X=df3.values[:,1:5]\n",
    "Y=df3.values[:,-1]\n",
    "Y=Y.astype('int')"
   ]
  },
  {
   "cell_type": "code",
   "execution_count": null,
   "metadata": {
    "colab": {
     "base_uri": "https://localhost:8080/",
     "height": 136
    },
    "colab_type": "code",
    "id": "s4BUB7U6O_2d",
    "outputId": "bae3940d-5766-4228-a4cc-3535758cf065"
   },
   "outputs": [
    {
     "data": {
      "text/plain": [
       "array([[3.130434782608696, -1.5, 9.720716981132075],\n",
       "       [3.130434782608696, 0.0, 13.110450576318552],\n",
       "       [3.0, 0.0, 10.806941176470591],\n",
       "       ...,\n",
       "       [2.9705882352941178, 0.5, 5.168512396694215],\n",
       "       [2.702127659574468, -3.0, 4.5284404924760615],\n",
       "       [2.9285714285714284, 2.0, 4.548461538461542]], dtype=object)"
      ]
     },
     "execution_count": 203,
     "metadata": {
      "tags": []
     },
     "output_type": "execute_result"
    }
   ],
   "source": [
    "X"
   ]
  },
  {
   "cell_type": "code",
   "execution_count": null,
   "metadata": {
    "colab": {},
    "colab_type": "code",
    "id": "FXhUI8sHKkNo"
   },
   "outputs": [],
   "source": [
    "X_train, X_test, y_train, y_test = train_test_split(X, Y,test_size=0.25, random_state=0)"
   ]
  },
  {
   "cell_type": "code",
   "execution_count": null,
   "metadata": {
    "colab": {},
    "colab_type": "code",
    "id": "Nk8aMRbAKpmv"
   },
   "outputs": [],
   "source": [
    "clf = SVC(kernel='rbf')"
   ]
  },
  {
   "cell_type": "code",
   "execution_count": null,
   "metadata": {
    "colab": {
     "base_uri": "https://localhost:8080/",
     "height": 85
    },
    "colab_type": "code",
    "id": "eRgYuOmiLW3n",
    "outputId": "d0db1fd9-e5a0-4011-f758-f38c1fa26024"
   },
   "outputs": [
    {
     "data": {
      "text/plain": [
       "SVC(C=1.0, break_ties=False, cache_size=200, class_weight=None, coef0=0.0,\n",
       "    decision_function_shape='ovr', degree=3, gamma='scale', kernel='rbf',\n",
       "    max_iter=-1, probability=False, random_state=None, shrinking=True,\n",
       "    tol=0.001, verbose=False)"
      ]
     },
     "execution_count": 212,
     "metadata": {
      "tags": []
     },
     "output_type": "execute_result"
    }
   ],
   "source": [
    "clf.fit(X_train, y_train)"
   ]
  },
  {
   "cell_type": "code",
   "execution_count": null,
   "metadata": {
    "colab": {},
    "colab_type": "code",
    "id": "8osy8UYdLXu3"
   },
   "outputs": [],
   "source": [
    "y_pred = clf.predict(X_test)"
   ]
  },
  {
   "cell_type": "code",
   "execution_count": 3,
   "metadata": {},
   "outputs": [
    {
     "name": "stdout",
     "output_type": "stream",
     "text": [
      "[[930 221]\n",
      " [419 831]]\n"
     ]
    }
   ],
   "source": [
    "confusion_matrix(y_test, y_pred)"
   ]
  },
  {
   "cell_type": "code",
   "execution_count": 4,
   "metadata": {
    "colab": {},
    "colab_type": "code",
    "id": "xcxxawpURLST"
   },
   "outputs": [
    {
     "name": "stdout",
     "output_type": "stream",
     "text": [
      "0.7334443982\n"
     ]
    }
   ],
   "source": [
    "clf.score(X_test, y_test)"
   ]
  }
 ],
 "metadata": {
  "colab": {
   "name": "Untitled30.ipynb",
   "provenance": []
  },
  "kernelspec": {
   "display_name": "Python 3",
   "language": "python",
   "name": "python3"
  },
  "language_info": {
   "codemirror_mode": {
    "name": "ipython",
    "version": 3
   },
   "file_extension": ".py",
   "mimetype": "text/x-python",
   "name": "python",
   "nbconvert_exporter": "python",
   "pygments_lexer": "ipython3",
   "version": "3.7.3"
  }
 },
 "nbformat": 4,
 "nbformat_minor": 1
}
